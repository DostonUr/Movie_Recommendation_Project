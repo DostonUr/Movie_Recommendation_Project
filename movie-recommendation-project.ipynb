{
 "cells": [
  {
   "cell_type": "code",
   "execution_count": 1,
   "id": "88264349",
   "metadata": {
    "_cell_guid": "b1076dfc-b9ad-4769-8c92-a6c4dae69d19",
    "_uuid": "8f2839f25d086af736a60e9eeb907d3b93b6e0e5",
    "execution": {
     "iopub.execute_input": "2024-11-19T11:20:36.301125Z",
     "iopub.status.busy": "2024-11-19T11:20:36.300587Z",
     "iopub.status.idle": "2024-11-19T11:20:37.159327Z",
     "shell.execute_reply": "2024-11-19T11:20:37.158209Z"
    },
    "papermill": {
     "duration": 0.869623,
     "end_time": "2024-11-19T11:20:37.162133",
     "exception": false,
     "start_time": "2024-11-19T11:20:36.292510",
     "status": "completed"
    },
    "tags": []
   },
   "outputs": [],
   "source": [
    "import pandas as pd\n",
    "import numpy as np"
   ]
  },
  {
   "cell_type": "code",
   "execution_count": 2,
   "id": "ffb0b25d",
   "metadata": {
    "execution": {
     "iopub.execute_input": "2024-11-19T11:20:37.175504Z",
     "iopub.status.busy": "2024-11-19T11:20:37.175035Z",
     "iopub.status.idle": "2024-11-19T11:20:37.302480Z",
     "shell.execute_reply": "2024-11-19T11:20:37.301490Z"
    },
    "papermill": {
     "duration": 0.137101,
     "end_time": "2024-11-19T11:20:37.305236",
     "exception": false,
     "start_time": "2024-11-19T11:20:37.168135",
     "status": "completed"
    },
    "tags": []
   },
   "outputs": [],
   "source": [
    "movies = pd.read_csv('/kaggle/input/movie-recommendation-data/dataset.csv')"
   ]
  },
  {
   "cell_type": "code",
   "execution_count": 3,
   "id": "8bb81d49",
   "metadata": {
    "execution": {
     "iopub.execute_input": "2024-11-19T11:20:37.318791Z",
     "iopub.status.busy": "2024-11-19T11:20:37.317651Z",
     "iopub.status.idle": "2024-11-19T11:20:37.341294Z",
     "shell.execute_reply": "2024-11-19T11:20:37.340114Z"
    },
    "papermill": {
     "duration": 0.032831,
     "end_time": "2024-11-19T11:20:37.343683",
     "exception": false,
     "start_time": "2024-11-19T11:20:37.310852",
     "status": "completed"
    },
    "tags": []
   },
   "outputs": [
    {
     "data": {
      "text/html": [
       "<div>\n",
       "<style scoped>\n",
       "    .dataframe tbody tr th:only-of-type {\n",
       "        vertical-align: middle;\n",
       "    }\n",
       "\n",
       "    .dataframe tbody tr th {\n",
       "        vertical-align: top;\n",
       "    }\n",
       "\n",
       "    .dataframe thead th {\n",
       "        text-align: right;\n",
       "    }\n",
       "</style>\n",
       "<table border=\"1\" class=\"dataframe\">\n",
       "  <thead>\n",
       "    <tr style=\"text-align: right;\">\n",
       "      <th></th>\n",
       "      <th>id</th>\n",
       "      <th>title</th>\n",
       "      <th>genre</th>\n",
       "      <th>original_language</th>\n",
       "      <th>overview</th>\n",
       "      <th>popularity</th>\n",
       "      <th>release_date</th>\n",
       "      <th>vote_average</th>\n",
       "      <th>vote_count</th>\n",
       "    </tr>\n",
       "  </thead>\n",
       "  <tbody>\n",
       "    <tr>\n",
       "      <th>0</th>\n",
       "      <td>278</td>\n",
       "      <td>The Shawshank Redemption</td>\n",
       "      <td>Drama,Crime</td>\n",
       "      <td>en</td>\n",
       "      <td>Framed in the 1940s for the double murder of h...</td>\n",
       "      <td>94.075</td>\n",
       "      <td>1994-09-23</td>\n",
       "      <td>8.7</td>\n",
       "      <td>21862</td>\n",
       "    </tr>\n",
       "    <tr>\n",
       "      <th>1</th>\n",
       "      <td>19404</td>\n",
       "      <td>Dilwale Dulhania Le Jayenge</td>\n",
       "      <td>Comedy,Drama,Romance</td>\n",
       "      <td>hi</td>\n",
       "      <td>Raj is a rich, carefree, happy-go-lucky second...</td>\n",
       "      <td>25.408</td>\n",
       "      <td>1995-10-19</td>\n",
       "      <td>8.7</td>\n",
       "      <td>3731</td>\n",
       "    </tr>\n",
       "    <tr>\n",
       "      <th>2</th>\n",
       "      <td>238</td>\n",
       "      <td>The Godfather</td>\n",
       "      <td>Drama,Crime</td>\n",
       "      <td>en</td>\n",
       "      <td>Spanning the years 1945 to 1955, a chronicle o...</td>\n",
       "      <td>90.585</td>\n",
       "      <td>1972-03-14</td>\n",
       "      <td>8.7</td>\n",
       "      <td>16280</td>\n",
       "    </tr>\n",
       "    <tr>\n",
       "      <th>3</th>\n",
       "      <td>424</td>\n",
       "      <td>Schindler's List</td>\n",
       "      <td>Drama,History,War</td>\n",
       "      <td>en</td>\n",
       "      <td>The true story of how businessman Oskar Schind...</td>\n",
       "      <td>44.761</td>\n",
       "      <td>1993-12-15</td>\n",
       "      <td>8.6</td>\n",
       "      <td>12959</td>\n",
       "    </tr>\n",
       "    <tr>\n",
       "      <th>4</th>\n",
       "      <td>240</td>\n",
       "      <td>The Godfather: Part II</td>\n",
       "      <td>Drama,Crime</td>\n",
       "      <td>en</td>\n",
       "      <td>In the continuing saga of the Corleone crime f...</td>\n",
       "      <td>57.749</td>\n",
       "      <td>1974-12-20</td>\n",
       "      <td>8.6</td>\n",
       "      <td>9811</td>\n",
       "    </tr>\n",
       "  </tbody>\n",
       "</table>\n",
       "</div>"
      ],
      "text/plain": [
       "      id                        title                 genre original_language  \\\n",
       "0    278     The Shawshank Redemption           Drama,Crime                en   \n",
       "1  19404  Dilwale Dulhania Le Jayenge  Comedy,Drama,Romance                hi   \n",
       "2    238                The Godfather           Drama,Crime                en   \n",
       "3    424             Schindler's List     Drama,History,War                en   \n",
       "4    240       The Godfather: Part II           Drama,Crime                en   \n",
       "\n",
       "                                            overview  popularity release_date  \\\n",
       "0  Framed in the 1940s for the double murder of h...      94.075   1994-09-23   \n",
       "1  Raj is a rich, carefree, happy-go-lucky second...      25.408   1995-10-19   \n",
       "2  Spanning the years 1945 to 1955, a chronicle o...      90.585   1972-03-14   \n",
       "3  The true story of how businessman Oskar Schind...      44.761   1993-12-15   \n",
       "4  In the continuing saga of the Corleone crime f...      57.749   1974-12-20   \n",
       "\n",
       "   vote_average  vote_count  \n",
       "0           8.7       21862  \n",
       "1           8.7        3731  \n",
       "2           8.7       16280  \n",
       "3           8.6       12959  \n",
       "4           8.6        9811  "
      ]
     },
     "execution_count": 3,
     "metadata": {},
     "output_type": "execute_result"
    }
   ],
   "source": [
    "movies.head()"
   ]
  },
  {
   "cell_type": "code",
   "execution_count": 4,
   "id": "21f0c482",
   "metadata": {
    "execution": {
     "iopub.execute_input": "2024-11-19T11:20:37.357169Z",
     "iopub.status.busy": "2024-11-19T11:20:37.356168Z",
     "iopub.status.idle": "2024-11-19T11:20:37.363304Z",
     "shell.execute_reply": "2024-11-19T11:20:37.362275Z"
    },
    "papermill": {
     "duration": 0.016232,
     "end_time": "2024-11-19T11:20:37.365571",
     "exception": false,
     "start_time": "2024-11-19T11:20:37.349339",
     "status": "completed"
    },
    "tags": []
   },
   "outputs": [
    {
     "data": {
      "text/plain": [
       "Index(['id', 'title', 'genre', 'original_language', 'overview', 'popularity',\n",
       "       'release_date', 'vote_average', 'vote_count'],\n",
       "      dtype='object')"
      ]
     },
     "execution_count": 4,
     "metadata": {},
     "output_type": "execute_result"
    }
   ],
   "source": [
    "movies.columns"
   ]
  },
  {
   "cell_type": "code",
   "execution_count": 5,
   "id": "1c8c9540",
   "metadata": {
    "execution": {
     "iopub.execute_input": "2024-11-19T11:20:37.380677Z",
     "iopub.status.busy": "2024-11-19T11:20:37.379815Z",
     "iopub.status.idle": "2024-11-19T11:20:37.411342Z",
     "shell.execute_reply": "2024-11-19T11:20:37.409694Z"
    },
    "papermill": {
     "duration": 0.042943,
     "end_time": "2024-11-19T11:20:37.414416",
     "exception": false,
     "start_time": "2024-11-19T11:20:37.371473",
     "status": "completed"
    },
    "tags": []
   },
   "outputs": [
    {
     "name": "stdout",
     "output_type": "stream",
     "text": [
      "<class 'pandas.core.frame.DataFrame'>\n",
      "RangeIndex: 10000 entries, 0 to 9999\n",
      "Data columns (total 9 columns):\n",
      " #   Column             Non-Null Count  Dtype  \n",
      "---  ------             --------------  -----  \n",
      " 0   id                 10000 non-null  int64  \n",
      " 1   title              10000 non-null  object \n",
      " 2   genre              9997 non-null   object \n",
      " 3   original_language  10000 non-null  object \n",
      " 4   overview           9987 non-null   object \n",
      " 5   popularity         10000 non-null  float64\n",
      " 6   release_date       10000 non-null  object \n",
      " 7   vote_average       10000 non-null  float64\n",
      " 8   vote_count         10000 non-null  int64  \n",
      "dtypes: float64(2), int64(2), object(5)\n",
      "memory usage: 703.2+ KB\n"
     ]
    }
   ],
   "source": [
    "movies.info()"
   ]
  },
  {
   "cell_type": "code",
   "execution_count": 6,
   "id": "d79a1d69",
   "metadata": {
    "execution": {
     "iopub.execute_input": "2024-11-19T11:20:37.428500Z",
     "iopub.status.busy": "2024-11-19T11:20:37.427464Z",
     "iopub.status.idle": "2024-11-19T11:20:37.442237Z",
     "shell.execute_reply": "2024-11-19T11:20:37.441141Z"
    },
    "papermill": {
     "duration": 0.024509,
     "end_time": "2024-11-19T11:20:37.444831",
     "exception": false,
     "start_time": "2024-11-19T11:20:37.420322",
     "status": "completed"
    },
    "tags": []
   },
   "outputs": [],
   "source": [
    "movies['tags'] = movies['genre'] + movies['overview']"
   ]
  },
  {
   "cell_type": "code",
   "execution_count": 7,
   "id": "6c05171c",
   "metadata": {
    "execution": {
     "iopub.execute_input": "2024-11-19T11:20:37.458373Z",
     "iopub.status.busy": "2024-11-19T11:20:37.457918Z",
     "iopub.status.idle": "2024-11-19T11:20:37.474927Z",
     "shell.execute_reply": "2024-11-19T11:20:37.473808Z"
    },
    "papermill": {
     "duration": 0.026558,
     "end_time": "2024-11-19T11:20:37.477253",
     "exception": false,
     "start_time": "2024-11-19T11:20:37.450695",
     "status": "completed"
    },
    "tags": []
   },
   "outputs": [
    {
     "data": {
      "text/html": [
       "<div>\n",
       "<style scoped>\n",
       "    .dataframe tbody tr th:only-of-type {\n",
       "        vertical-align: middle;\n",
       "    }\n",
       "\n",
       "    .dataframe tbody tr th {\n",
       "        vertical-align: top;\n",
       "    }\n",
       "\n",
       "    .dataframe thead th {\n",
       "        text-align: right;\n",
       "    }\n",
       "</style>\n",
       "<table border=\"1\" class=\"dataframe\">\n",
       "  <thead>\n",
       "    <tr style=\"text-align: right;\">\n",
       "      <th></th>\n",
       "      <th>id</th>\n",
       "      <th>title</th>\n",
       "      <th>genre</th>\n",
       "      <th>original_language</th>\n",
       "      <th>overview</th>\n",
       "      <th>popularity</th>\n",
       "      <th>release_date</th>\n",
       "      <th>vote_average</th>\n",
       "      <th>vote_count</th>\n",
       "      <th>tags</th>\n",
       "    </tr>\n",
       "  </thead>\n",
       "  <tbody>\n",
       "    <tr>\n",
       "      <th>0</th>\n",
       "      <td>278</td>\n",
       "      <td>The Shawshank Redemption</td>\n",
       "      <td>Drama,Crime</td>\n",
       "      <td>en</td>\n",
       "      <td>Framed in the 1940s for the double murder of h...</td>\n",
       "      <td>94.075</td>\n",
       "      <td>1994-09-23</td>\n",
       "      <td>8.7</td>\n",
       "      <td>21862</td>\n",
       "      <td>Drama,CrimeFramed in the 1940s for the double ...</td>\n",
       "    </tr>\n",
       "    <tr>\n",
       "      <th>1</th>\n",
       "      <td>19404</td>\n",
       "      <td>Dilwale Dulhania Le Jayenge</td>\n",
       "      <td>Comedy,Drama,Romance</td>\n",
       "      <td>hi</td>\n",
       "      <td>Raj is a rich, carefree, happy-go-lucky second...</td>\n",
       "      <td>25.408</td>\n",
       "      <td>1995-10-19</td>\n",
       "      <td>8.7</td>\n",
       "      <td>3731</td>\n",
       "      <td>Comedy,Drama,RomanceRaj is a rich, carefree, h...</td>\n",
       "    </tr>\n",
       "    <tr>\n",
       "      <th>2</th>\n",
       "      <td>238</td>\n",
       "      <td>The Godfather</td>\n",
       "      <td>Drama,Crime</td>\n",
       "      <td>en</td>\n",
       "      <td>Spanning the years 1945 to 1955, a chronicle o...</td>\n",
       "      <td>90.585</td>\n",
       "      <td>1972-03-14</td>\n",
       "      <td>8.7</td>\n",
       "      <td>16280</td>\n",
       "      <td>Drama,CrimeSpanning the years 1945 to 1955, a ...</td>\n",
       "    </tr>\n",
       "    <tr>\n",
       "      <th>3</th>\n",
       "      <td>424</td>\n",
       "      <td>Schindler's List</td>\n",
       "      <td>Drama,History,War</td>\n",
       "      <td>en</td>\n",
       "      <td>The true story of how businessman Oskar Schind...</td>\n",
       "      <td>44.761</td>\n",
       "      <td>1993-12-15</td>\n",
       "      <td>8.6</td>\n",
       "      <td>12959</td>\n",
       "      <td>Drama,History,WarThe true story of how busines...</td>\n",
       "    </tr>\n",
       "    <tr>\n",
       "      <th>4</th>\n",
       "      <td>240</td>\n",
       "      <td>The Godfather: Part II</td>\n",
       "      <td>Drama,Crime</td>\n",
       "      <td>en</td>\n",
       "      <td>In the continuing saga of the Corleone crime f...</td>\n",
       "      <td>57.749</td>\n",
       "      <td>1974-12-20</td>\n",
       "      <td>8.6</td>\n",
       "      <td>9811</td>\n",
       "      <td>Drama,CrimeIn the continuing saga of the Corle...</td>\n",
       "    </tr>\n",
       "  </tbody>\n",
       "</table>\n",
       "</div>"
      ],
      "text/plain": [
       "      id                        title                 genre original_language  \\\n",
       "0    278     The Shawshank Redemption           Drama,Crime                en   \n",
       "1  19404  Dilwale Dulhania Le Jayenge  Comedy,Drama,Romance                hi   \n",
       "2    238                The Godfather           Drama,Crime                en   \n",
       "3    424             Schindler's List     Drama,History,War                en   \n",
       "4    240       The Godfather: Part II           Drama,Crime                en   \n",
       "\n",
       "                                            overview  popularity release_date  \\\n",
       "0  Framed in the 1940s for the double murder of h...      94.075   1994-09-23   \n",
       "1  Raj is a rich, carefree, happy-go-lucky second...      25.408   1995-10-19   \n",
       "2  Spanning the years 1945 to 1955, a chronicle o...      90.585   1972-03-14   \n",
       "3  The true story of how businessman Oskar Schind...      44.761   1993-12-15   \n",
       "4  In the continuing saga of the Corleone crime f...      57.749   1974-12-20   \n",
       "\n",
       "   vote_average  vote_count                                               tags  \n",
       "0           8.7       21862  Drama,CrimeFramed in the 1940s for the double ...  \n",
       "1           8.7        3731  Comedy,Drama,RomanceRaj is a rich, carefree, h...  \n",
       "2           8.7       16280  Drama,CrimeSpanning the years 1945 to 1955, a ...  \n",
       "3           8.6       12959  Drama,History,WarThe true story of how busines...  \n",
       "4           8.6        9811  Drama,CrimeIn the continuing saga of the Corle...  "
      ]
     },
     "execution_count": 7,
     "metadata": {},
     "output_type": "execute_result"
    }
   ],
   "source": [
    "movies.head()"
   ]
  },
  {
   "cell_type": "code",
   "execution_count": 8,
   "id": "b45586cf",
   "metadata": {
    "execution": {
     "iopub.execute_input": "2024-11-19T11:20:37.491044Z",
     "iopub.status.busy": "2024-11-19T11:20:37.490665Z",
     "iopub.status.idle": "2024-11-19T11:20:37.501258Z",
     "shell.execute_reply": "2024-11-19T11:20:37.500038Z"
    },
    "papermill": {
     "duration": 0.019948,
     "end_time": "2024-11-19T11:20:37.503302",
     "exception": false,
     "start_time": "2024-11-19T11:20:37.483354",
     "status": "completed"
    },
    "tags": []
   },
   "outputs": [],
   "source": [
    "new_df = movies[['id', 'title', 'genre', 'overview', 'tags']]"
   ]
  },
  {
   "cell_type": "code",
   "execution_count": 9,
   "id": "982c9abe",
   "metadata": {
    "execution": {
     "iopub.execute_input": "2024-11-19T11:20:37.517703Z",
     "iopub.status.busy": "2024-11-19T11:20:37.516535Z",
     "iopub.status.idle": "2024-11-19T11:20:37.529532Z",
     "shell.execute_reply": "2024-11-19T11:20:37.528307Z"
    },
    "papermill": {
     "duration": 0.022394,
     "end_time": "2024-11-19T11:20:37.531613",
     "exception": false,
     "start_time": "2024-11-19T11:20:37.509219",
     "status": "completed"
    },
    "tags": []
   },
   "outputs": [
    {
     "data": {
      "text/html": [
       "<div>\n",
       "<style scoped>\n",
       "    .dataframe tbody tr th:only-of-type {\n",
       "        vertical-align: middle;\n",
       "    }\n",
       "\n",
       "    .dataframe tbody tr th {\n",
       "        vertical-align: top;\n",
       "    }\n",
       "\n",
       "    .dataframe thead th {\n",
       "        text-align: right;\n",
       "    }\n",
       "</style>\n",
       "<table border=\"1\" class=\"dataframe\">\n",
       "  <thead>\n",
       "    <tr style=\"text-align: right;\">\n",
       "      <th></th>\n",
       "      <th>id</th>\n",
       "      <th>title</th>\n",
       "      <th>genre</th>\n",
       "      <th>overview</th>\n",
       "      <th>tags</th>\n",
       "    </tr>\n",
       "  </thead>\n",
       "  <tbody>\n",
       "    <tr>\n",
       "      <th>0</th>\n",
       "      <td>278</td>\n",
       "      <td>The Shawshank Redemption</td>\n",
       "      <td>Drama,Crime</td>\n",
       "      <td>Framed in the 1940s for the double murder of h...</td>\n",
       "      <td>Drama,CrimeFramed in the 1940s for the double ...</td>\n",
       "    </tr>\n",
       "    <tr>\n",
       "      <th>1</th>\n",
       "      <td>19404</td>\n",
       "      <td>Dilwale Dulhania Le Jayenge</td>\n",
       "      <td>Comedy,Drama,Romance</td>\n",
       "      <td>Raj is a rich, carefree, happy-go-lucky second...</td>\n",
       "      <td>Comedy,Drama,RomanceRaj is a rich, carefree, h...</td>\n",
       "    </tr>\n",
       "    <tr>\n",
       "      <th>2</th>\n",
       "      <td>238</td>\n",
       "      <td>The Godfather</td>\n",
       "      <td>Drama,Crime</td>\n",
       "      <td>Spanning the years 1945 to 1955, a chronicle o...</td>\n",
       "      <td>Drama,CrimeSpanning the years 1945 to 1955, a ...</td>\n",
       "    </tr>\n",
       "    <tr>\n",
       "      <th>3</th>\n",
       "      <td>424</td>\n",
       "      <td>Schindler's List</td>\n",
       "      <td>Drama,History,War</td>\n",
       "      <td>The true story of how businessman Oskar Schind...</td>\n",
       "      <td>Drama,History,WarThe true story of how busines...</td>\n",
       "    </tr>\n",
       "    <tr>\n",
       "      <th>4</th>\n",
       "      <td>240</td>\n",
       "      <td>The Godfather: Part II</td>\n",
       "      <td>Drama,Crime</td>\n",
       "      <td>In the continuing saga of the Corleone crime f...</td>\n",
       "      <td>Drama,CrimeIn the continuing saga of the Corle...</td>\n",
       "    </tr>\n",
       "  </tbody>\n",
       "</table>\n",
       "</div>"
      ],
      "text/plain": [
       "      id                        title                 genre  \\\n",
       "0    278     The Shawshank Redemption           Drama,Crime   \n",
       "1  19404  Dilwale Dulhania Le Jayenge  Comedy,Drama,Romance   \n",
       "2    238                The Godfather           Drama,Crime   \n",
       "3    424             Schindler's List     Drama,History,War   \n",
       "4    240       The Godfather: Part II           Drama,Crime   \n",
       "\n",
       "                                            overview  \\\n",
       "0  Framed in the 1940s for the double murder of h...   \n",
       "1  Raj is a rich, carefree, happy-go-lucky second...   \n",
       "2  Spanning the years 1945 to 1955, a chronicle o...   \n",
       "3  The true story of how businessman Oskar Schind...   \n",
       "4  In the continuing saga of the Corleone crime f...   \n",
       "\n",
       "                                                tags  \n",
       "0  Drama,CrimeFramed in the 1940s for the double ...  \n",
       "1  Comedy,Drama,RomanceRaj is a rich, carefree, h...  \n",
       "2  Drama,CrimeSpanning the years 1945 to 1955, a ...  \n",
       "3  Drama,History,WarThe true story of how busines...  \n",
       "4  Drama,CrimeIn the continuing saga of the Corle...  "
      ]
     },
     "execution_count": 9,
     "metadata": {},
     "output_type": "execute_result"
    }
   ],
   "source": [
    "new_df.head()"
   ]
  },
  {
   "cell_type": "code",
   "execution_count": 10,
   "id": "ffba559a",
   "metadata": {
    "execution": {
     "iopub.execute_input": "2024-11-19T11:20:37.545555Z",
     "iopub.status.busy": "2024-11-19T11:20:37.545163Z",
     "iopub.status.idle": "2024-11-19T11:20:37.554661Z",
     "shell.execute_reply": "2024-11-19T11:20:37.553423Z"
    },
    "papermill": {
     "duration": 0.018913,
     "end_time": "2024-11-19T11:20:37.556857",
     "exception": false,
     "start_time": "2024-11-19T11:20:37.537944",
     "status": "completed"
    },
    "tags": []
   },
   "outputs": [],
   "source": [
    "new_df = new_df.drop(columns=['genre','overview'])"
   ]
  },
  {
   "cell_type": "code",
   "execution_count": 11,
   "id": "bd7c6770",
   "metadata": {
    "execution": {
     "iopub.execute_input": "2024-11-19T11:20:37.572107Z",
     "iopub.status.busy": "2024-11-19T11:20:37.570930Z",
     "iopub.status.idle": "2024-11-19T11:20:37.582582Z",
     "shell.execute_reply": "2024-11-19T11:20:37.581379Z"
    },
    "papermill": {
     "duration": 0.021567,
     "end_time": "2024-11-19T11:20:37.584774",
     "exception": false,
     "start_time": "2024-11-19T11:20:37.563207",
     "status": "completed"
    },
    "tags": []
   },
   "outputs": [
    {
     "data": {
      "text/html": [
       "<div>\n",
       "<style scoped>\n",
       "    .dataframe tbody tr th:only-of-type {\n",
       "        vertical-align: middle;\n",
       "    }\n",
       "\n",
       "    .dataframe tbody tr th {\n",
       "        vertical-align: top;\n",
       "    }\n",
       "\n",
       "    .dataframe thead th {\n",
       "        text-align: right;\n",
       "    }\n",
       "</style>\n",
       "<table border=\"1\" class=\"dataframe\">\n",
       "  <thead>\n",
       "    <tr style=\"text-align: right;\">\n",
       "      <th></th>\n",
       "      <th>id</th>\n",
       "      <th>title</th>\n",
       "      <th>tags</th>\n",
       "    </tr>\n",
       "  </thead>\n",
       "  <tbody>\n",
       "    <tr>\n",
       "      <th>0</th>\n",
       "      <td>278</td>\n",
       "      <td>The Shawshank Redemption</td>\n",
       "      <td>Drama,CrimeFramed in the 1940s for the double ...</td>\n",
       "    </tr>\n",
       "    <tr>\n",
       "      <th>1</th>\n",
       "      <td>19404</td>\n",
       "      <td>Dilwale Dulhania Le Jayenge</td>\n",
       "      <td>Comedy,Drama,RomanceRaj is a rich, carefree, h...</td>\n",
       "    </tr>\n",
       "    <tr>\n",
       "      <th>2</th>\n",
       "      <td>238</td>\n",
       "      <td>The Godfather</td>\n",
       "      <td>Drama,CrimeSpanning the years 1945 to 1955, a ...</td>\n",
       "    </tr>\n",
       "    <tr>\n",
       "      <th>3</th>\n",
       "      <td>424</td>\n",
       "      <td>Schindler's List</td>\n",
       "      <td>Drama,History,WarThe true story of how busines...</td>\n",
       "    </tr>\n",
       "    <tr>\n",
       "      <th>4</th>\n",
       "      <td>240</td>\n",
       "      <td>The Godfather: Part II</td>\n",
       "      <td>Drama,CrimeIn the continuing saga of the Corle...</td>\n",
       "    </tr>\n",
       "  </tbody>\n",
       "</table>\n",
       "</div>"
      ],
      "text/plain": [
       "      id                        title  \\\n",
       "0    278     The Shawshank Redemption   \n",
       "1  19404  Dilwale Dulhania Le Jayenge   \n",
       "2    238                The Godfather   \n",
       "3    424             Schindler's List   \n",
       "4    240       The Godfather: Part II   \n",
       "\n",
       "                                                tags  \n",
       "0  Drama,CrimeFramed in the 1940s for the double ...  \n",
       "1  Comedy,Drama,RomanceRaj is a rich, carefree, h...  \n",
       "2  Drama,CrimeSpanning the years 1945 to 1955, a ...  \n",
       "3  Drama,History,WarThe true story of how busines...  \n",
       "4  Drama,CrimeIn the continuing saga of the Corle...  "
      ]
     },
     "execution_count": 11,
     "metadata": {},
     "output_type": "execute_result"
    }
   ],
   "source": [
    "new_df.head()"
   ]
  },
  {
   "cell_type": "code",
   "execution_count": 12,
   "id": "39deccda",
   "metadata": {
    "execution": {
     "iopub.execute_input": "2024-11-19T11:20:37.599845Z",
     "iopub.status.busy": "2024-11-19T11:20:37.598776Z",
     "iopub.status.idle": "2024-11-19T11:20:38.908968Z",
     "shell.execute_reply": "2024-11-19T11:20:38.907687Z"
    },
    "papermill": {
     "duration": 1.320411,
     "end_time": "2024-11-19T11:20:38.911606",
     "exception": false,
     "start_time": "2024-11-19T11:20:37.591195",
     "status": "completed"
    },
    "tags": []
   },
   "outputs": [],
   "source": [
    "from sklearn.feature_extraction.text import CountVectorizer"
   ]
  },
  {
   "cell_type": "code",
   "execution_count": 13,
   "id": "59ebd6a7",
   "metadata": {
    "execution": {
     "iopub.execute_input": "2024-11-19T11:20:38.927371Z",
     "iopub.status.busy": "2024-11-19T11:20:38.926618Z",
     "iopub.status.idle": "2024-11-19T11:20:38.932808Z",
     "shell.execute_reply": "2024-11-19T11:20:38.931518Z"
    },
    "papermill": {
     "duration": 0.016633,
     "end_time": "2024-11-19T11:20:38.934945",
     "exception": false,
     "start_time": "2024-11-19T11:20:38.918312",
     "status": "completed"
    },
    "tags": []
   },
   "outputs": [],
   "source": [
    "cv = CountVectorizer(max_features=10000, stop_words='english')"
   ]
  },
  {
   "cell_type": "code",
   "execution_count": 14,
   "id": "b48eadeb",
   "metadata": {
    "execution": {
     "iopub.execute_input": "2024-11-19T11:20:38.949059Z",
     "iopub.status.busy": "2024-11-19T11:20:38.948609Z",
     "iopub.status.idle": "2024-11-19T11:20:38.957496Z",
     "shell.execute_reply": "2024-11-19T11:20:38.956370Z"
    },
    "papermill": {
     "duration": 0.018635,
     "end_time": "2024-11-19T11:20:38.959969",
     "exception": false,
     "start_time": "2024-11-19T11:20:38.941334",
     "status": "completed"
    },
    "tags": []
   },
   "outputs": [
    {
     "data": {
      "text/html": [
       "<style>#sk-container-id-1 {color: black;background-color: white;}#sk-container-id-1 pre{padding: 0;}#sk-container-id-1 div.sk-toggleable {background-color: white;}#sk-container-id-1 label.sk-toggleable__label {cursor: pointer;display: block;width: 100%;margin-bottom: 0;padding: 0.3em;box-sizing: border-box;text-align: center;}#sk-container-id-1 label.sk-toggleable__label-arrow:before {content: \"▸\";float: left;margin-right: 0.25em;color: #696969;}#sk-container-id-1 label.sk-toggleable__label-arrow:hover:before {color: black;}#sk-container-id-1 div.sk-estimator:hover label.sk-toggleable__label-arrow:before {color: black;}#sk-container-id-1 div.sk-toggleable__content {max-height: 0;max-width: 0;overflow: hidden;text-align: left;background-color: #f0f8ff;}#sk-container-id-1 div.sk-toggleable__content pre {margin: 0.2em;color: black;border-radius: 0.25em;background-color: #f0f8ff;}#sk-container-id-1 input.sk-toggleable__control:checked~div.sk-toggleable__content {max-height: 200px;max-width: 100%;overflow: auto;}#sk-container-id-1 input.sk-toggleable__control:checked~label.sk-toggleable__label-arrow:before {content: \"▾\";}#sk-container-id-1 div.sk-estimator input.sk-toggleable__control:checked~label.sk-toggleable__label {background-color: #d4ebff;}#sk-container-id-1 div.sk-label input.sk-toggleable__control:checked~label.sk-toggleable__label {background-color: #d4ebff;}#sk-container-id-1 input.sk-hidden--visually {border: 0;clip: rect(1px 1px 1px 1px);clip: rect(1px, 1px, 1px, 1px);height: 1px;margin: -1px;overflow: hidden;padding: 0;position: absolute;width: 1px;}#sk-container-id-1 div.sk-estimator {font-family: monospace;background-color: #f0f8ff;border: 1px dotted black;border-radius: 0.25em;box-sizing: border-box;margin-bottom: 0.5em;}#sk-container-id-1 div.sk-estimator:hover {background-color: #d4ebff;}#sk-container-id-1 div.sk-parallel-item::after {content: \"\";width: 100%;border-bottom: 1px solid gray;flex-grow: 1;}#sk-container-id-1 div.sk-label:hover label.sk-toggleable__label {background-color: #d4ebff;}#sk-container-id-1 div.sk-serial::before {content: \"\";position: absolute;border-left: 1px solid gray;box-sizing: border-box;top: 0;bottom: 0;left: 50%;z-index: 0;}#sk-container-id-1 div.sk-serial {display: flex;flex-direction: column;align-items: center;background-color: white;padding-right: 0.2em;padding-left: 0.2em;position: relative;}#sk-container-id-1 div.sk-item {position: relative;z-index: 1;}#sk-container-id-1 div.sk-parallel {display: flex;align-items: stretch;justify-content: center;background-color: white;position: relative;}#sk-container-id-1 div.sk-item::before, #sk-container-id-1 div.sk-parallel-item::before {content: \"\";position: absolute;border-left: 1px solid gray;box-sizing: border-box;top: 0;bottom: 0;left: 50%;z-index: -1;}#sk-container-id-1 div.sk-parallel-item {display: flex;flex-direction: column;z-index: 1;position: relative;background-color: white;}#sk-container-id-1 div.sk-parallel-item:first-child::after {align-self: flex-end;width: 50%;}#sk-container-id-1 div.sk-parallel-item:last-child::after {align-self: flex-start;width: 50%;}#sk-container-id-1 div.sk-parallel-item:only-child::after {width: 0;}#sk-container-id-1 div.sk-dashed-wrapped {border: 1px dashed gray;margin: 0 0.4em 0.5em 0.4em;box-sizing: border-box;padding-bottom: 0.4em;background-color: white;}#sk-container-id-1 div.sk-label label {font-family: monospace;font-weight: bold;display: inline-block;line-height: 1.2em;}#sk-container-id-1 div.sk-label-container {text-align: center;}#sk-container-id-1 div.sk-container {/* jupyter's `normalize.less` sets `[hidden] { display: none; }` but bootstrap.min.css set `[hidden] { display: none !important; }` so we also need the `!important` here to be able to override the default hidden behavior on the sphinx rendered scikit-learn.org. See: https://github.com/scikit-learn/scikit-learn/issues/21755 */display: inline-block !important;position: relative;}#sk-container-id-1 div.sk-text-repr-fallback {display: none;}</style><div id=\"sk-container-id-1\" class=\"sk-top-container\"><div class=\"sk-text-repr-fallback\"><pre>CountVectorizer(max_features=10000, stop_words=&#x27;english&#x27;)</pre><b>In a Jupyter environment, please rerun this cell to show the HTML representation or trust the notebook. <br />On GitHub, the HTML representation is unable to render, please try loading this page with nbviewer.org.</b></div><div class=\"sk-container\" hidden><div class=\"sk-item\"><div class=\"sk-estimator sk-toggleable\"><input class=\"sk-toggleable__control sk-hidden--visually\" id=\"sk-estimator-id-1\" type=\"checkbox\" checked><label for=\"sk-estimator-id-1\" class=\"sk-toggleable__label sk-toggleable__label-arrow\">CountVectorizer</label><div class=\"sk-toggleable__content\"><pre>CountVectorizer(max_features=10000, stop_words=&#x27;english&#x27;)</pre></div></div></div></div></div>"
      ],
      "text/plain": [
       "CountVectorizer(max_features=10000, stop_words='english')"
      ]
     },
     "execution_count": 14,
     "metadata": {},
     "output_type": "execute_result"
    }
   ],
   "source": [
    "cv"
   ]
  },
  {
   "cell_type": "code",
   "execution_count": 15,
   "id": "d83a7e33",
   "metadata": {
    "execution": {
     "iopub.execute_input": "2024-11-19T11:20:38.975613Z",
     "iopub.status.busy": "2024-11-19T11:20:38.975258Z",
     "iopub.status.idle": "2024-11-19T11:20:40.062116Z",
     "shell.execute_reply": "2024-11-19T11:20:40.061075Z"
    },
    "papermill": {
     "duration": 1.097884,
     "end_time": "2024-11-19T11:20:40.064746",
     "exception": false,
     "start_time": "2024-11-19T11:20:38.966862",
     "status": "completed"
    },
    "tags": []
   },
   "outputs": [],
   "source": [
    "vec = cv.fit_transform(new_df['tags'].values.astype('U')).toarray()"
   ]
  },
  {
   "cell_type": "code",
   "execution_count": 16,
   "id": "e158f7b1",
   "metadata": {
    "execution": {
     "iopub.execute_input": "2024-11-19T11:20:40.080789Z",
     "iopub.status.busy": "2024-11-19T11:20:40.080375Z",
     "iopub.status.idle": "2024-11-19T11:20:40.087891Z",
     "shell.execute_reply": "2024-11-19T11:20:40.086666Z"
    },
    "papermill": {
     "duration": 0.017719,
     "end_time": "2024-11-19T11:20:40.090301",
     "exception": false,
     "start_time": "2024-11-19T11:20:40.072582",
     "status": "completed"
    },
    "tags": []
   },
   "outputs": [
    {
     "data": {
      "text/plain": [
       "array([[0, 0, 0, ..., 0, 0, 0],\n",
       "       [0, 0, 0, ..., 0, 0, 0],\n",
       "       [0, 0, 0, ..., 0, 0, 0],\n",
       "       ...,\n",
       "       [0, 0, 0, ..., 0, 0, 0],\n",
       "       [0, 0, 0, ..., 0, 0, 0],\n",
       "       [0, 0, 0, ..., 0, 0, 0]])"
      ]
     },
     "execution_count": 16,
     "metadata": {},
     "output_type": "execute_result"
    }
   ],
   "source": [
    "vec"
   ]
  },
  {
   "cell_type": "code",
   "execution_count": 17,
   "id": "a4f75933",
   "metadata": {
    "execution": {
     "iopub.execute_input": "2024-11-19T11:20:40.106265Z",
     "iopub.status.busy": "2024-11-19T11:20:40.105395Z",
     "iopub.status.idle": "2024-11-19T11:20:40.112409Z",
     "shell.execute_reply": "2024-11-19T11:20:40.111266Z"
    },
    "papermill": {
     "duration": 0.017692,
     "end_time": "2024-11-19T11:20:40.114863",
     "exception": false,
     "start_time": "2024-11-19T11:20:40.097171",
     "status": "completed"
    },
    "tags": []
   },
   "outputs": [
    {
     "data": {
      "text/plain": [
       "(10000, 10000)"
      ]
     },
     "execution_count": 17,
     "metadata": {},
     "output_type": "execute_result"
    }
   ],
   "source": [
    "vec.shape"
   ]
  },
  {
   "cell_type": "code",
   "execution_count": 18,
   "id": "2a612b4b",
   "metadata": {
    "execution": {
     "iopub.execute_input": "2024-11-19T11:20:40.130665Z",
     "iopub.status.busy": "2024-11-19T11:20:40.130252Z",
     "iopub.status.idle": "2024-11-19T11:20:40.222208Z",
     "shell.execute_reply": "2024-11-19T11:20:40.221256Z"
    },
    "papermill": {
     "duration": 0.102656,
     "end_time": "2024-11-19T11:20:40.224710",
     "exception": false,
     "start_time": "2024-11-19T11:20:40.122054",
     "status": "completed"
    },
    "tags": []
   },
   "outputs": [],
   "source": [
    "from sklearn.metrics.pairwise import cosine_similarity"
   ]
  },
  {
   "cell_type": "code",
   "execution_count": 19,
   "id": "4eb14ca8",
   "metadata": {
    "execution": {
     "iopub.execute_input": "2024-11-19T11:20:40.240490Z",
     "iopub.status.busy": "2024-11-19T11:20:40.240040Z",
     "iopub.status.idle": "2024-11-19T11:20:59.051814Z",
     "shell.execute_reply": "2024-11-19T11:20:59.050429Z"
    },
    "papermill": {
     "duration": 18.822573,
     "end_time": "2024-11-19T11:20:59.054350",
     "exception": false,
     "start_time": "2024-11-19T11:20:40.231777",
     "status": "completed"
    },
    "tags": []
   },
   "outputs": [],
   "source": [
    "sim = cosine_similarity(vec)"
   ]
  },
  {
   "cell_type": "code",
   "execution_count": 20,
   "id": "5d9bffdf",
   "metadata": {
    "execution": {
     "iopub.execute_input": "2024-11-19T11:20:59.070331Z",
     "iopub.status.busy": "2024-11-19T11:20:59.069935Z",
     "iopub.status.idle": "2024-11-19T11:20:59.078395Z",
     "shell.execute_reply": "2024-11-19T11:20:59.077129Z"
    },
    "papermill": {
     "duration": 0.019238,
     "end_time": "2024-11-19T11:20:59.080974",
     "exception": false,
     "start_time": "2024-11-19T11:20:59.061736",
     "status": "completed"
    },
    "tags": []
   },
   "outputs": [
    {
     "data": {
      "text/plain": [
       "array([[1.        , 0.06253054, 0.05802589, ..., 0.07963978, 0.07597372,\n",
       "        0.03798686],\n",
       "       [0.06253054, 1.        , 0.08980265, ..., 0.        , 0.        ,\n",
       "        0.        ],\n",
       "       [0.05802589, 0.08980265, 1.        , ..., 0.02541643, 0.03636965,\n",
       "        0.        ],\n",
       "       ...,\n",
       "       [0.07963978, 0.        , 0.02541643, ..., 1.        , 0.03327792,\n",
       "        0.03327792],\n",
       "       [0.07597372, 0.        , 0.03636965, ..., 0.03327792, 1.        ,\n",
       "        0.04761905],\n",
       "       [0.03798686, 0.        , 0.        , ..., 0.03327792, 0.04761905,\n",
       "        1.        ]])"
      ]
     },
     "execution_count": 20,
     "metadata": {},
     "output_type": "execute_result"
    }
   ],
   "source": [
    "sim"
   ]
  },
  {
   "cell_type": "code",
   "execution_count": 21,
   "id": "7e298fa0",
   "metadata": {
    "execution": {
     "iopub.execute_input": "2024-11-19T11:20:59.096799Z",
     "iopub.status.busy": "2024-11-19T11:20:59.096319Z",
     "iopub.status.idle": "2024-11-19T11:20:59.109197Z",
     "shell.execute_reply": "2024-11-19T11:20:59.108028Z"
    },
    "papermill": {
     "duration": 0.023331,
     "end_time": "2024-11-19T11:20:59.111245",
     "exception": false,
     "start_time": "2024-11-19T11:20:59.087914",
     "status": "completed"
    },
    "tags": []
   },
   "outputs": [
    {
     "data": {
      "text/html": [
       "<div>\n",
       "<style scoped>\n",
       "    .dataframe tbody tr th:only-of-type {\n",
       "        vertical-align: middle;\n",
       "    }\n",
       "\n",
       "    .dataframe tbody tr th {\n",
       "        vertical-align: top;\n",
       "    }\n",
       "\n",
       "    .dataframe thead th {\n",
       "        text-align: right;\n",
       "    }\n",
       "</style>\n",
       "<table border=\"1\" class=\"dataframe\">\n",
       "  <thead>\n",
       "    <tr style=\"text-align: right;\">\n",
       "      <th></th>\n",
       "      <th>id</th>\n",
       "      <th>title</th>\n",
       "      <th>tags</th>\n",
       "    </tr>\n",
       "  </thead>\n",
       "  <tbody>\n",
       "    <tr>\n",
       "      <th>0</th>\n",
       "      <td>278</td>\n",
       "      <td>The Shawshank Redemption</td>\n",
       "      <td>Drama,CrimeFramed in the 1940s for the double ...</td>\n",
       "    </tr>\n",
       "  </tbody>\n",
       "</table>\n",
       "</div>"
      ],
      "text/plain": [
       "    id                     title  \\\n",
       "0  278  The Shawshank Redemption   \n",
       "\n",
       "                                                tags  \n",
       "0  Drama,CrimeFramed in the 1940s for the double ...  "
      ]
     },
     "execution_count": 21,
     "metadata": {},
     "output_type": "execute_result"
    }
   ],
   "source": [
    "new_df[new_df['title']=='The Shawshank Redemption']"
   ]
  },
  {
   "cell_type": "code",
   "execution_count": 22,
   "id": "b7570bf5",
   "metadata": {
    "execution": {
     "iopub.execute_input": "2024-11-19T11:20:59.128168Z",
     "iopub.status.busy": "2024-11-19T11:20:59.127221Z",
     "iopub.status.idle": "2024-11-19T11:20:59.139702Z",
     "shell.execute_reply": "2024-11-19T11:20:59.138330Z"
    },
    "papermill": {
     "duration": 0.023333,
     "end_time": "2024-11-19T11:20:59.141882",
     "exception": false,
     "start_time": "2024-11-19T11:20:59.118549",
     "status": "completed"
    },
    "tags": []
   },
   "outputs": [],
   "source": [
    "dist = sorted(list(enumerate(sim[0])),reverse=True,key=lambda vec:vec[1])"
   ]
  },
  {
   "cell_type": "code",
   "execution_count": 23,
   "id": "d9d2dad8",
   "metadata": {
    "execution": {
     "iopub.execute_input": "2024-11-19T11:20:59.158033Z",
     "iopub.status.busy": "2024-11-19T11:20:59.157563Z",
     "iopub.status.idle": "2024-11-19T11:20:59.164469Z",
     "shell.execute_reply": "2024-11-19T11:20:59.163401Z"
    },
    "papermill": {
     "duration": 0.017483,
     "end_time": "2024-11-19T11:20:59.166589",
     "exception": false,
     "start_time": "2024-11-19T11:20:59.149106",
     "status": "completed"
    },
    "tags": []
   },
   "outputs": [
    {
     "name": "stdout",
     "output_type": "stream",
     "text": [
      "The Shawshank Redemption\n",
      "Anything for Her\n",
      "The Woodsman\n",
      "The Getaway\n",
      "Pusher II\n"
     ]
    }
   ],
   "source": [
    "for i in dist[0:5]:\n",
    "    print(new_df.iloc[i[0]].title)"
   ]
  },
  {
   "cell_type": "code",
   "execution_count": 24,
   "id": "5bb908a9",
   "metadata": {
    "execution": {
     "iopub.execute_input": "2024-11-19T11:20:59.183475Z",
     "iopub.status.busy": "2024-11-19T11:20:59.182535Z",
     "iopub.status.idle": "2024-11-19T11:20:59.189261Z",
     "shell.execute_reply": "2024-11-19T11:20:59.188107Z"
    },
    "papermill": {
     "duration": 0.01751,
     "end_time": "2024-11-19T11:20:59.191319",
     "exception": false,
     "start_time": "2024-11-19T11:20:59.173809",
     "status": "completed"
    },
    "tags": []
   },
   "outputs": [],
   "source": [
    "def recommend(movies):\n",
    "    index = new_df[new_df['title']==movies].index[0]\n",
    "    distance = sorted(list(enumerate(sim[index])),reverse=True,key=lambda vec:vec[1])\n",
    "    for i in distance[0:5]:\n",
    "        print(new_df.iloc[i[0]].title)"
   ]
  },
  {
   "cell_type": "code",
   "execution_count": 25,
   "id": "7e9cee12",
   "metadata": {
    "execution": {
     "iopub.execute_input": "2024-11-19T11:20:59.207428Z",
     "iopub.status.busy": "2024-11-19T11:20:59.206477Z",
     "iopub.status.idle": "2024-11-19T11:20:59.221442Z",
     "shell.execute_reply": "2024-11-19T11:20:59.220005Z"
    },
    "papermill": {
     "duration": 0.025327,
     "end_time": "2024-11-19T11:20:59.223726",
     "exception": false,
     "start_time": "2024-11-19T11:20:59.198399",
     "status": "completed"
    },
    "tags": []
   },
   "outputs": [
    {
     "name": "stdout",
     "output_type": "stream",
     "text": [
      "Iron Man\n",
      "Mazinger Z: Infinity\n",
      "Justice League Dark\n",
      "Iron Man 3\n",
      "The Colony\n"
     ]
    }
   ],
   "source": [
    "recommend('Iron Man')"
   ]
  },
  {
   "cell_type": "code",
   "execution_count": 26,
   "id": "912b4144",
   "metadata": {
    "execution": {
     "iopub.execute_input": "2024-11-19T11:20:59.239458Z",
     "iopub.status.busy": "2024-11-19T11:20:59.239103Z",
     "iopub.status.idle": "2024-11-19T11:20:59.253454Z",
     "shell.execute_reply": "2024-11-19T11:20:59.252088Z"
    },
    "papermill": {
     "duration": 0.024797,
     "end_time": "2024-11-19T11:20:59.255691",
     "exception": false,
     "start_time": "2024-11-19T11:20:59.230894",
     "status": "completed"
    },
    "tags": []
   },
   "outputs": [
    {
     "name": "stdout",
     "output_type": "stream",
     "text": [
      "The Shawshank Redemption\n",
      "Anything for Her\n",
      "The Woodsman\n",
      "The Getaway\n",
      "Pusher II\n"
     ]
    }
   ],
   "source": [
    "recommend('The Shawshank Redemption')"
   ]
  },
  {
   "cell_type": "code",
   "execution_count": null,
   "id": "85eb78b5",
   "metadata": {
    "papermill": {
     "duration": 0.006815,
     "end_time": "2024-11-19T11:20:59.269758",
     "exception": false,
     "start_time": "2024-11-19T11:20:59.262943",
     "status": "completed"
    },
    "tags": []
   },
   "outputs": [],
   "source": []
  }
 ],
 "metadata": {
  "kaggle": {
   "accelerator": "none",
   "dataSources": [
    {
     "datasetId": 6107503,
     "sourceId": 9934826,
     "sourceType": "datasetVersion"
    }
   ],
   "dockerImageVersionId": 30786,
   "isGpuEnabled": false,
   "isInternetEnabled": true,
   "language": "python",
   "sourceType": "notebook"
  },
  "kernelspec": {
   "display_name": "Python 3",
   "language": "python",
   "name": "python3"
  },
  "language_info": {
   "codemirror_mode": {
    "name": "ipython",
    "version": 3
   },
   "file_extension": ".py",
   "mimetype": "text/x-python",
   "name": "python",
   "nbconvert_exporter": "python",
   "pygments_lexer": "ipython3",
   "version": "3.10.14"
  },
  "papermill": {
   "default_parameters": {},
   "duration": 26.773961,
   "end_time": "2024-11-19T11:21:00.000724",
   "environment_variables": {},
   "exception": null,
   "input_path": "__notebook__.ipynb",
   "output_path": "__notebook__.ipynb",
   "parameters": {},
   "start_time": "2024-11-19T11:20:33.226763",
   "version": "2.6.0"
  }
 },
 "nbformat": 4,
 "nbformat_minor": 5
}
